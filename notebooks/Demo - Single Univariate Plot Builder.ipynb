{
 "cells": [
  {
   "cell_type": "code",
   "execution_count": 1,
   "id": "c3a5cd85",
   "metadata": {},
   "outputs": [],
   "source": [
    "from plottah.colors import PlotColors\n",
    "\n",
    "import pathlib\n",
    "import sys\n",
    "\n",
    "import pandas as pd\n",
    "ROOT = pathlib.Path().resolve().parent\n",
    "pd.set_option('display.max_columns', None)\n",
    "\n",
    "import plotly.io as pio\n",
    "pio.renderers.default = \"iframe\""
   ]
  },
  {
   "cell_type": "code",
   "execution_count": 2,
   "id": "f5d82a32",
   "metadata": {},
   "outputs": [],
   "source": [
    "DATA_PATH = ROOT / 'data' / 'example_data' / 'test_sample.csv'\n",
    "df_sample = pd.read_csv(DATA_PATH)"
   ]
  },
  {
   "cell_type": "code",
   "execution_count": 3,
   "id": "b3414287",
   "metadata": {},
   "outputs": [],
   "source": [
    "BCG_COLORS = PlotColors(\n",
    "    primary_color=\"40, 186, 116\",\n",
    "    secondary_color=\"41, 94, 126\",\n",
    "    tertiary_color=\"153, 204, 235\",\n",
    "    grey_tint_color=\"110, 111, 115\",\n",
    ")"
   ]
  },
  {
   "cell_type": "code",
   "execution_count": 4,
   "id": "b20bf833",
   "metadata": {},
   "outputs": [],
   "source": [
    "from plottah.plot_builder import build_univariate_plot, build_univariate_plots"
   ]
  },
  {
   "cell_type": "code",
   "execution_count": 5,
   "id": "93308b12",
   "metadata": {},
   "outputs": [
    {
     "data": {
      "text/html": [
       "<iframe\n",
       "    scrolling=\"no\"\n",
       "    width=\"1020px\"\n",
       "    height=\"820\"\n",
       "    src=\"iframe_figures/figure_5.html\"\n",
       "    frameborder=\"0\"\n",
       "    allowfullscreen\n",
       "></iframe>\n"
      ]
     },
     "metadata": {},
     "output_type": "display_data"
    }
   ],
   "source": [
    "plot = build_univariate_plot(\n",
    "    df = df_sample,\n",
    "    feature_col = 'A_TENURE_MONTHS_N',\n",
    "    target = 'FLAG_60_DPD_366_DAYS',\n",
    "    feature_type = \"float\",\n",
    "    colors = BCG_COLORS,\n",
    "    show_plot = True,\n",
    "    hoverinfo=\"all\",\n",
    "    n_bins = 5,\n",
    "    bins = None,\n",
    "    specs = None,\n",
    ")"
   ]
  },
  {
   "cell_type": "code",
   "execution_count": 6,
   "id": "9c87ba8f",
   "metadata": {},
   "outputs": [
    {
     "name": "stderr",
     "output_type": "stream",
     "text": [
      "WARNING:root:For feature A_TENURE_MONTHS_N you provided custom bins, the smallest bin provided is 1 but minimum is 4, so replacing 1 by 4\n",
      "WARNING:root:For feature A_TENURE_MONTHS_N you provided custom bins, the largest bin is 100 but max is 61, so replacing 100 by 61\n"
     ]
    },
    {
     "data": {
      "text/html": [
       "<iframe\n",
       "    scrolling=\"no\"\n",
       "    width=\"1020px\"\n",
       "    height=\"820\"\n",
       "    src=\"iframe_figures/figure_6.html\"\n",
       "    frameborder=\"0\"\n",
       "    allowfullscreen\n",
       "></iframe>\n"
      ]
     },
     "metadata": {},
     "output_type": "display_data"
    }
   ],
   "source": [
    "plot = build_univariate_plot(\n",
    "    df = df_sample,\n",
    "    feature_col = 'A_TENURE_MONTHS_N',\n",
    "    target = 'FLAG_60_DPD_366_DAYS',\n",
    "    feature_type = \"float\",\n",
    "    colors = BCG_COLORS,\n",
    "    show_plot = True,\n",
    "    hoverinfo=\"all\",\n",
    "    n_bins = 5,\n",
    "    bins = [1, 5, 10, 20, 100],\n",
    "    specs = None,\n",
    ")"
   ]
  },
  {
   "cell_type": "code",
   "execution_count": null,
   "id": "aa3f7259",
   "metadata": {},
   "outputs": [],
   "source": []
  }
 ],
 "metadata": {
  "kernelspec": {
   "display_name": "Python 3 (ipykernel)",
   "language": "python",
   "name": "python3"
  },
  "language_info": {
   "codemirror_mode": {
    "name": "ipython",
    "version": 3
   },
   "file_extension": ".py",
   "mimetype": "text/x-python",
   "name": "python",
   "nbconvert_exporter": "python",
   "pygments_lexer": "ipython3",
   "version": "3.10.1"
  }
 },
 "nbformat": 4,
 "nbformat_minor": 5
}
