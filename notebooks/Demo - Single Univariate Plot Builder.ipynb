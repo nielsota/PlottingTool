{
 "cells": [
  {
   "cell_type": "code",
   "execution_count": 4,
   "id": "c3a5cd85",
   "metadata": {},
   "outputs": [],
   "source": [
    "from plottah.colors import BCG_COLORS\n",
    "\n",
    "import pathlib\n",
    "import sys\n",
    "import os\n",
    "from dotenv import load_dotenv\n",
    "load_dotenv()\n",
    "\n",
    "import pandas as pd\n",
    "ROOT = pathlib.Path().resolve().parent\n",
    "pd.set_option('display.max_columns', None)\n",
    "\n",
    "import plotly.io as pio\n",
    "pio.renderers.default = \"iframe\""
   ]
  },
  {
   "cell_type": "code",
   "execution_count": 5,
   "id": "cbf8c53c",
   "metadata": {},
   "outputs": [],
   "source": [
    "DATA_PATH = ROOT / 'data' / 'example_data' / 'test_sample.csv'\n",
    "df_sample = pd.read_csv(DATA_PATH)"
   ]
  },
  {
   "cell_type": "code",
   "execution_count": 6,
   "id": "b20bf833",
   "metadata": {},
   "outputs": [],
   "source": [
    "from plottah.plot_builder import build_univariate_plot, build_univariate_plots"
   ]
  },
  {
   "cell_type": "code",
   "execution_count": 7,
   "id": "93308b12",
   "metadata": {},
   "outputs": [
    {
     "name": "stderr",
     "output_type": "stream",
     "text": [
      "/Users/otaniels/.pyenv/versions/3.10.1/lib/python3.10/site-packages/plottah/plots/BinEventRatePlot.py:251: FutureWarning:\n",
      "\n",
      "The default of observed=False is deprecated and will be changed to True in a future version of pandas. Pass observed=False to retain current behavior or observed=True to adopt the future default and silence this warning.\n",
      "\n"
     ]
    },
    {
     "data": {
      "text/html": [
       "<iframe\n",
       "    scrolling=\"no\"\n",
       "    width=\"1020px\"\n",
       "    height=\"820\"\n",
       "    src=\"iframe_figures/figure_7.html\"\n",
       "    frameborder=\"0\"\n",
       "    allowfullscreen\n",
       "></iframe>\n"
      ]
     },
     "metadata": {},
     "output_type": "display_data"
    }
   ],
   "source": [
    "plot = build_univariate_plot(\n",
    "    df = df_sample,\n",
    "    feature_col = 'D_MAX_DAYS_PAST_DUE_6M_N',\n",
    "    target = 'FLAG_60_DPD_366_DAYS',\n",
    "    feature_type = \"float\",\n",
    "    colors = BCG_COLORS,\n",
    "    show_plot = True,\n",
    "    hoverinfo=\"all\",\n",
    "    n_bins = 5,\n",
    "    bins = None,\n",
    "    specs = None,\n",
    ")"
   ]
  },
  {
   "cell_type": "code",
   "execution_count": 8,
   "id": "9c87ba8f",
   "metadata": {},
   "outputs": [
    {
     "name": "stderr",
     "output_type": "stream",
     "text": [
      "WARNING:root:For feature A_TENURE_MONTHS_N you provided custom bins, the smallest bin provided is 1 but minimum is 4, so replacing 1 by 4\n",
      "WARNING:root:For feature A_TENURE_MONTHS_N you provided custom bins, the largest bin is 100 but max is 61, so replacing 100 by 61\n",
      "/Users/otaniels/.pyenv/versions/3.10.1/lib/python3.10/site-packages/plottah/plots/BinEventRatePlot.py:251: FutureWarning:\n",
      "\n",
      "The default of observed=False is deprecated and will be changed to True in a future version of pandas. Pass observed=False to retain current behavior or observed=True to adopt the future default and silence this warning.\n",
      "\n"
     ]
    },
    {
     "data": {
      "text/html": [
       "<iframe\n",
       "    scrolling=\"no\"\n",
       "    width=\"1020px\"\n",
       "    height=\"820\"\n",
       "    src=\"iframe_figures/figure_8.html\"\n",
       "    frameborder=\"0\"\n",
       "    allowfullscreen\n",
       "></iframe>\n"
      ]
     },
     "metadata": {},
     "output_type": "display_data"
    }
   ],
   "source": [
    "plot = build_univariate_plot(\n",
    "    df = df_sample,\n",
    "    feature_col = 'A_TENURE_MONTHS_N',\n",
    "    target = 'FLAG_60_DPD_366_DAYS',\n",
    "    feature_type = \"float\",\n",
    "    colors = BCG_COLORS,\n",
    "    show_plot = True,\n",
    "    hoverinfo=\"all\",\n",
    "    n_bins = 5,\n",
    "    bins = [1, 5, 10, 20, 100],\n",
    "    specs = None,\n",
    ")"
   ]
  },
  {
   "cell_type": "code",
   "execution_count": 9,
   "id": "aa3f7259",
   "metadata": {},
   "outputs": [
    {
     "name": "stderr",
     "output_type": "stream",
     "text": [
      "WARNING:root:LN_LEXISNEXIS_THIN_FILE_FLAG_B only has 2 distinct values, decreasing n_bins from 5 to 2 \n"
     ]
    },
    {
     "data": {
      "text/html": [
       "<iframe\n",
       "    scrolling=\"no\"\n",
       "    width=\"1020px\"\n",
       "    height=\"420\"\n",
       "    src=\"iframe_figures/figure_9.html\"\n",
       "    frameborder=\"0\"\n",
       "    allowfullscreen\n",
       "></iframe>\n"
      ]
     },
     "metadata": {},
     "output_type": "display_data"
    }
   ],
   "source": [
    "# note the warning based on n_bins\n",
    "\n",
    "plot = build_univariate_plot(\n",
    "    df = df_sample,\n",
    "    feature_col = 'LN_LEXISNEXIS_THIN_FILE_FLAG_B',\n",
    "    target = 'FLAG_60_DPD_366_DAYS',\n",
    "    feature_type = \"categorical\",\n",
    "    colors = BCG_COLORS,\n",
    "    show_plot = True,\n",
    "    hoverinfo=\"all\",\n",
    "    n_bins = 5,\n",
    "    specs = None,\n",
    ")"
   ]
  },
  {
   "cell_type": "code",
   "execution_count": null,
   "id": "d88a7df3",
   "metadata": {},
   "outputs": [],
   "source": []
  }
 ],
 "metadata": {
  "kernelspec": {
   "display_name": ".venv",
   "language": "python",
   "name": ".venv"
  },
  "language_info": {
   "codemirror_mode": {
    "name": "ipython",
    "version": 3
   },
   "file_extension": ".py",
   "mimetype": "text/x-python",
   "name": "python",
   "nbconvert_exporter": "python",
   "pygments_lexer": "ipython3",
   "version": "3.10.1"
  }
 },
 "nbformat": 4,
 "nbformat_minor": 5
}
