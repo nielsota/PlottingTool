{
 "cells": [
  {
   "cell_type": "code",
   "execution_count": 1,
   "id": "c3a5cd85",
   "metadata": {},
   "outputs": [],
   "source": [
    "from plottah.config import settings\n",
    "from plottah.colors import PlotColors\n",
    "\n",
    "import pathlib\n",
    "\n",
    "import sys\n",
    "ROOT = pathlib.Path().resolve().parent\n",
    "\n",
    "sys.path.append(str(ROOT / 'src'))\n",
    "#sys.path.append(\"../utils/\")\n",
    "\n",
    "import pandas as pd\n",
    "\n",
    "pd.set_option('display.max_columns', None)\n",
    "\n",
    "import plotly.io as pio\n",
    "pio.renderers.default = \"iframe\"\n",
    "\n",
    "df_sample = pd.read_csv(settings.file_path)"
   ]
  },
  {
   "cell_type": "code",
   "execution_count": 2,
   "id": "b252bd52",
   "metadata": {},
   "outputs": [],
   "source": [
    "FEATURE, TARGET = settings.features[1].name, settings.target"
   ]
  },
  {
   "cell_type": "code",
   "execution_count": 3,
   "id": "b3414287",
   "metadata": {},
   "outputs": [],
   "source": [
    "SOMEBANK_COLORS = PlotColors(\n",
    "    primary_color=\"231, 30, 87\",\n",
    "    secondary_color=\"153, 204, 235\",\n",
    "    tertiary_color=\"254, 189, 64\",\n",
    "    grey_tint_color=\"110, 111, 115\",\n",
    ")\n",
    "\n",
    "BCG_COLORS = PlotColors(\n",
    "    primary_color=\"40, 186, 116\",\n",
    "    secondary_color=\"41, 94, 126\",\n",
    "    tertiary_color=\"153, 204, 235\",\n",
    "    grey_tint_color=\"110, 111, 115\",\n",
    ")"
   ]
  },
  {
   "cell_type": "code",
   "execution_count": 4,
   "id": "b20bf833",
   "metadata": {},
   "outputs": [],
   "source": [
    "from plottah.plot_builder import build_univariate_plot, build_univariate_plots"
   ]
  },
  {
   "cell_type": "code",
   "execution_count": 5,
   "id": "93308b12",
   "metadata": {},
   "outputs": [
    {
     "data": {
      "text/html": [
       "<iframe\n",
       "    scrolling=\"no\"\n",
       "    width=\"1020px\"\n",
       "    height=\"820\"\n",
       "    src=\"iframe_figures/figure_5.html\"\n",
       "    frameborder=\"0\"\n",
       "    allowfullscreen\n",
       "></iframe>\n"
      ]
     },
     "metadata": {},
     "output_type": "display_data"
    }
   ],
   "source": [
    "color_palette = PlotColors(\n",
    "        primary_color=settings.primary_color,\n",
    "        secondary_color=settings.secondary_color,\n",
    "        tertiary_color=settings.tertiary_color,\n",
    "        grey_tint_color=settings.grey_tint_color,\n",
    "    )\n",
    "\n",
    "fig = build_univariate_plot(\n",
    "    df_sample,\n",
    "    FEATURE,\n",
    "    TARGET,\n",
    "    colors=SOMEBANK_COLORS,\n",
    ")"
   ]
  },
  {
   "cell_type": "code",
   "execution_count": 6,
   "id": "9c87ba8f",
   "metadata": {},
   "outputs": [
    {
     "name": "stdout",
     "output_type": "stream",
     "text": [
      "[1/2] Starting univariate analysis for: D_MAX_DAYS_PAST_DUE_6M_N\n",
      "[2/2] Starting univariate analysis for: LN_LEXISNEXIS_SBFE_SCORE_CURRENT_N\n"
     ]
    }
   ],
   "source": [
    "figs = build_univariate_plots(\n",
    "    df_sample,\n",
    "    [settings.features[1].name, settings.features[2].name],\n",
    "    TARGET,\n",
    "    colors=SOMEBANK_COLORS,\n",
    "    show_plot=False\n",
    ")"
   ]
  },
  {
   "cell_type": "code",
   "execution_count": 7,
   "id": "f9f09561",
   "metadata": {},
   "outputs": [
    {
     "data": {
      "text/html": [
       "<iframe\n",
       "    scrolling=\"no\"\n",
       "    width=\"1020px\"\n",
       "    height=\"820\"\n",
       "    src=\"iframe_figures/figure_7.html\"\n",
       "    frameborder=\"0\"\n",
       "    allowfullscreen\n",
       "></iframe>\n"
      ]
     },
     "metadata": {},
     "output_type": "display_data"
    }
   ],
   "source": [
    "figs['D_MAX_DAYS_PAST_DUE_6M_N'].show()"
   ]
  },
  {
   "cell_type": "code",
   "execution_count": null,
   "id": "aa3f7259",
   "metadata": {},
   "outputs": [],
   "source": []
  }
 ],
 "metadata": {
  "kernelspec": {
   "display_name": "Python 3 (ipykernel)",
   "language": "python",
   "name": "python3"
  },
  "language_info": {
   "codemirror_mode": {
    "name": "ipython",
    "version": 3
   },
   "file_extension": ".py",
   "mimetype": "text/x-python",
   "name": "python",
   "nbconvert_exporter": "python",
   "pygments_lexer": "ipython3",
   "version": "3.10.1"
  }
 },
 "nbformat": 4,
 "nbformat_minor": 5
}
