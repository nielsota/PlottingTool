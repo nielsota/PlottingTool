{
 "cells": [
  {
   "cell_type": "code",
   "execution_count": null,
   "id": "c78bb20d",
   "metadata": {},
   "outputs": [],
   "source": [
    "from plottah.plots import RocCurvePlot, DistPlot, BinEventRatePlot\n",
    "from plottah.plot_handler import PlotHandler\n",
    "from plottah.config import settings\n",
    "from plottah.colors import PlotColors\n",
    "\n",
    "import pathlib\n",
    "\n",
    "import sys\n",
    "ROOT = pathlib.Path().resolve().parent\n",
    "\n",
    "sys.path.append(str(ROOT / 'src'))\n",
    "#sys.path.append(\"../utils/\")\n",
    "\n",
    "import pandas as pd\n",
    "\n",
    "pd.set_option('display.max_columns', None)\n",
    "\n",
    "import plotly.io as pio\n",
    "pio.renderers.default = \"iframe\"\n",
    "\n",
    "df_sample = pd.read_csv(settings.file_path)"
   ]
  },
  {
   "cell_type": "code",
   "execution_count": null,
   "id": "4d2142f4",
   "metadata": {},
   "outputs": [],
   "source": [
    "FEATURE, TARGET = settings.features[0].name, settings.target"
   ]
  },
  {
   "cell_type": "code",
   "execution_count": null,
   "id": "8f7508ba",
   "metadata": {},
   "outputs": [],
   "source": [
    "roc_curve = RocCurvePlot()\n",
    "dist_plot = DistPlot()\n",
    "bin_plot = BinEventRatePlot()"
   ]
  },
  {
   "cell_type": "code",
   "execution_count": null,
   "id": "ad7645e2",
   "metadata": {},
   "outputs": [],
   "source": [
    "plot = PlotHandler(FEATURE, TARGET)"
   ]
  },
  {
   "cell_type": "code",
   "execution_count": null,
   "id": "4356521f",
   "metadata": {},
   "outputs": [],
   "source": [
    "plot.build(df_sample,\n",
    "        FEATURE,\n",
    "        TARGET,\n",
    "        roc_curve,\n",
    "        dist_plot,\n",
    "        bin_plot)"
   ]
  },
  {
   "cell_type": "code",
   "execution_count": null,
   "id": "8c4362c0",
   "metadata": {},
   "outputs": [],
   "source": [
    "plot = PlotHandler(FEATURE, TARGET)\n",
    "\n",
    "plot.build(df_sample,\n",
    "        FEATURE,\n",
    "        TARGET,\n",
    "        dist_plot,\n",
    "        roc_curve,\n",
    "        bin_plot)"
   ]
  },
  {
   "cell_type": "code",
   "execution_count": null,
   "id": "dd5e0b16",
   "metadata": {},
   "outputs": [],
   "source": [
    "specs = [[{\"colspan\": 2, \"secondary_y\": True}, None], [{}, {}]]\n",
    "plot = PlotHandler(FEATURE, TARGET, specs = specs)\n",
    "roc_curve = RocCurvePlot()\n",
    "roc_curve.do_math(df_sample,\n",
    "        FEATURE,\n",
    "        TARGET)\n",
    "dist_plot = DistPlot()\n",
    "dist_plot.do_math(df_sample,\n",
    "        FEATURE,\n",
    "        TARGET)\n",
    "bin_plot = BinEventRatePlot()\n",
    "bin_plot.do_math(df_sample,\n",
    "        FEATURE,\n",
    "        TARGET)"
   ]
  },
  {
   "cell_type": "code",
   "execution_count": null,
   "id": "a482d218",
   "metadata": {},
   "outputs": [],
   "source": [
    "plot.build_subplot(bin_plot, row=1, col=1)\n",
    "plot.build_subplot(dist_plot, row=2, col=1)\n",
    "plot.build_subplot(roc_curve, row=2, col=2)"
   ]
  },
  {
   "cell_type": "code",
   "execution_count": null,
   "id": "a6a70de3",
   "metadata": {},
   "outputs": [],
   "source": [
    "plot.show()"
   ]
  },
  {
   "cell_type": "code",
   "execution_count": null,
   "id": "61ca822e",
   "metadata": {},
   "outputs": [],
   "source": []
  }
 ],
 "metadata": {
  "kernelspec": {
   "display_name": "Python 3 (ipykernel)",
   "language": "python",
   "name": "python3"
  },
  "language_info": {
   "codemirror_mode": {
    "name": "ipython",
    "version": 3
   },
   "file_extension": ".py",
   "mimetype": "text/x-python",
   "name": "python",
   "nbconvert_exporter": "python",
   "pygments_lexer": "ipython3",
   "version": "3.10.1"
  }
 },
 "nbformat": 4,
 "nbformat_minor": 5
}
