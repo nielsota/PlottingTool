{
 "cells": [
  {
   "cell_type": "code",
   "execution_count": 2,
   "id": "c78bb20d",
   "metadata": {},
   "outputs": [],
   "source": [
    "from src.plots import RocCurvePlot, DistPlot, BinEventRatePlot\n",
    "from src.plot_handler import PlotHandler\n",
    "from src.config import settings\n",
    "from src.colors import PlotColors\n",
    "\n",
    "import pathlib\n",
    "\n",
    "import sys\n",
    "ROOT = pathlib.Path().resolve().parent\n",
    "\n",
    "sys.path.append(str(ROOT / 'src'))\n",
    "#sys.path.append(\"../utils/\")\n",
    "\n",
    "import pandas as pd\n",
    "\n",
    "pd.set_option('display.max_columns', None)\n",
    "\n",
    "import plotly.io as pio\n",
    "pio.renderers.default = \"iframe\"\n",
    "\n",
    "df_sample = pd.read_csv(settings.file_path)"
   ]
  },
  {
   "cell_type": "code",
   "execution_count": 3,
   "id": "4d2142f4",
   "metadata": {},
   "outputs": [],
   "source": [
    "FEATURE, TARGET = settings.features[1], settings.target"
   ]
  },
  {
   "cell_type": "code",
   "execution_count": 4,
   "id": "8f7508ba",
   "metadata": {},
   "outputs": [],
   "source": [
    "roc_curve = RocCurvePlot()\n",
    "dist_plot = DistPlot()\n",
    "bin_plot = BinEventRatePlot()"
   ]
  },
  {
   "cell_type": "code",
   "execution_count": 5,
   "id": "ad7645e2",
   "metadata": {},
   "outputs": [],
   "source": [
    "plot = PlotHandler(FEATURE, TARGET)"
   ]
  },
  {
   "cell_type": "code",
   "execution_count": 6,
   "id": "4356521f",
   "metadata": {},
   "outputs": [
    {
     "data": {
      "text/html": [
       "<iframe\n",
       "    scrolling=\"no\"\n",
       "    width=\"1020px\"\n",
       "    height=\"820\"\n",
       "    src=\"iframe_figures/figure_6.html\"\n",
       "    frameborder=\"0\"\n",
       "    allowfullscreen\n",
       "></iframe>\n"
      ]
     },
     "metadata": {},
     "output_type": "display_data"
    }
   ],
   "source": [
    "plot.build(df_sample,\n",
    "        FEATURE,\n",
    "        TARGET,\n",
    "        roc_curve,\n",
    "        dist_plot,\n",
    "        bin_plot)"
   ]
  },
  {
   "cell_type": "code",
   "execution_count": null,
   "id": "8c4362c0",
   "metadata": {},
   "outputs": [],
   "source": []
  }
 ],
 "metadata": {
  "kernelspec": {
   "display_name": "Python 3 (ipykernel)",
   "language": "python",
   "name": "python3"
  },
  "language_info": {
   "codemirror_mode": {
    "name": "ipython",
    "version": 3
   },
   "file_extension": ".py",
   "mimetype": "text/x-python",
   "name": "python",
   "nbconvert_exporter": "python",
   "pygments_lexer": "ipython3",
   "version": "3.10.1"
  }
 },
 "nbformat": 4,
 "nbformat_minor": 5
}
