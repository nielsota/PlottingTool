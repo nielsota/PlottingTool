{
 "cells": [
  {
   "cell_type": "code",
   "execution_count": null,
   "id": "da86b8ad",
   "metadata": {},
   "outputs": [],
   "source": [
    "from plottah.plots import RocCurvePlot, DistPlot, BinEventRatePlot\n",
    "from plottah.plot_handler import PlotHandler\n",
    "from plottah.config import settings\n",
    "from plottah.colors import PlotColors\n",
    "\n",
    "import pathlib\n",
    "\n",
    "import sys\n",
    "ROOT = pathlib.Path().resolve().parent\n",
    "\n",
    "sys.path.append(str(ROOT / 'src'))\n",
    "#sys.path.append(\"../utils/\")\n",
    "\n",
    "import pandas as pd\n",
    "\n",
    "pd.set_option('display.max_columns', None)\n",
    "\n",
    "import plotly.io as pio\n",
    "pio.renderers.default = \"iframe\"\n",
    "\n",
    "df_sample = pd.read_csv(settings.file_path)"
   ]
  },
  {
   "cell_type": "code",
   "execution_count": null,
   "id": "45fa0a33",
   "metadata": {},
   "outputs": [],
   "source": [
    "FEATURE = settings.features[0].name"
   ]
  },
  {
   "cell_type": "code",
   "execution_count": null,
   "id": "d0754c61",
   "metadata": {},
   "outputs": [],
   "source": [
    "roc_curve = RocCurvePlot()\n",
    "roc_curve.do_math(df_sample, FEATURE, settings.target)\n",
    "fig = roc_curve.show_plot()"
   ]
  },
  {
   "cell_type": "code",
   "execution_count": null,
   "id": "575c127c",
   "metadata": {},
   "outputs": [],
   "source": [
    "dist_plot = DistPlot()\n",
    "dist_plot.do_math(df_sample, FEATURE, settings.target)\n",
    "fig = dist_plot.show_plot()"
   ]
  },
  {
   "cell_type": "code",
   "execution_count": null,
   "id": "384d64b0",
   "metadata": {},
   "outputs": [],
   "source": [
    "bin_plot = BinEventRatePlot()\n",
    "bin_plot.do_math(df_sample, FEATURE, settings.target)\n",
    "fig = bin_plot.show_plot()"
   ]
  },
  {
   "cell_type": "code",
   "execution_count": null,
   "id": "591168b0",
   "metadata": {},
   "outputs": [],
   "source": []
  }
 ],
 "metadata": {
  "kernelspec": {
   "display_name": "Python 3 (ipykernel)",
   "language": "python",
   "name": "python3"
  },
  "language_info": {
   "codemirror_mode": {
    "name": "ipython",
    "version": 3
   },
   "file_extension": ".py",
   "mimetype": "text/x-python",
   "name": "python",
   "nbconvert_exporter": "python",
   "pygments_lexer": "ipython3",
   "version": "3.10.1"
  }
 },
 "nbformat": 4,
 "nbformat_minor": 5
}
