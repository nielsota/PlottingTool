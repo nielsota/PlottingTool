{
 "cells": [
  {
   "cell_type": "code",
   "execution_count": 16,
   "id": "89d90df5",
   "metadata": {},
   "outputs": [],
   "source": [
    "import pathlib\n",
    "\n",
    "import sys\n",
    "ROOT = pathlib.Path().resolve().parent\n",
    "\n",
    "sys.path.append(str(ROOT / 'src'))\n",
    "#sys.path.append(\"../utils/\")\n",
    "\n",
    "import pandas as pd\n",
    "\n",
    "pd.set_option('display.max_columns', None)\n",
    "\n",
    "import plotly.io as pio\n",
    "pio.renderers.default = \"iframe\""
   ]
  },
  {
   "cell_type": "code",
   "execution_count": 2,
   "id": "b494d4c3",
   "metadata": {},
   "outputs": [],
   "source": [
    "import plots"
   ]
  },
  {
   "cell_type": "code",
   "execution_count": 3,
   "id": "1137ad7d",
   "metadata": {},
   "outputs": [],
   "source": [
    "from plots import RocCurvePlot, DistPlot, BinEventRatePlot\n",
    "from plota import OtaPlotter"
   ]
  },
  {
   "cell_type": "code",
   "execution_count": 4,
   "id": "099d3c14",
   "metadata": {},
   "outputs": [
    {
     "data": {
      "text/plain": [
       "plots.DistPlot.DistPlot"
      ]
     },
     "execution_count": 4,
     "metadata": {},
     "output_type": "execute_result"
    }
   ],
   "source": [
    "plots.DistPlot"
   ]
  },
  {
   "cell_type": "code",
   "execution_count": 5,
   "id": "ec2ad784",
   "metadata": {},
   "outputs": [],
   "source": [
    "from config import settings\n",
    "from colors import PlotColors"
   ]
  },
  {
   "cell_type": "code",
   "execution_count": 6,
   "id": "ea777be9",
   "metadata": {},
   "outputs": [
    {
     "data": {
      "text/plain": [
       "Settings(file_path=PosixPath('/Users/otaniels/Library/CloudStorage/OneDrive-TheBostonConsultingGroup,Inc/Documents/NielsOta/Code/univariate_plotter/data/test_sample.csv'), output_path=PosixPath('/Users/otaniels/Library/CloudStorage/OneDrive-TheBostonConsultingGroup,Inc/Documents/NielsOta/Code/univariate_plotter/data/images'), features=['A_TENURE_MONTHS_N', 'D_MAX_DAYS_PAST_DUE_6M_N', 'LN_LEXISNEXIS_SBFE_SCORE_CURRENT_N'], target='FLAG_60_DPD_366_DAYS')"
      ]
     },
     "execution_count": 6,
     "metadata": {},
     "output_type": "execute_result"
    }
   ],
   "source": [
    "settings"
   ]
  },
  {
   "cell_type": "code",
   "execution_count": 7,
   "id": "1706a13c",
   "metadata": {},
   "outputs": [],
   "source": [
    "df_sample = pd.read_csv(settings.file_path)"
   ]
  },
  {
   "cell_type": "code",
   "execution_count": 8,
   "id": "3fe377af",
   "metadata": {},
   "outputs": [],
   "source": [
    "def build_univariate_plot(df, \n",
    "                          feature_col: str, \n",
    "                          target: str, \n",
    "                          colors: PlotColors = PlotColors(), \n",
    "                          show_plot: bool = True,\n",
    "                          hoverinfo='all',\n",
    "                          n_bins: int = 10,\n",
    "                          bins: list = None):\n",
    "    \"\"\"\n",
    "    buils standard univariate plot from days 'ye\n",
    "    \n",
    "    Returns\n",
    "    \"\"\"\n",
    "    roccurve = RocCurvePlot(hoverinfo=hoverinfo, colors=colors)\n",
    "    roccurve.do_math(df_sample, feature_col, target)\n",
    "    \n",
    "    distcurve = DistPlot(hoverinfo=hoverinfo, colors=colors)\n",
    "    distcurve.do_math(df_sample, feature_col, target)\n",
    "    \n",
    "    eventcurve = BinEventRatePlot(hoverinfo=hoverinfo, colors=colors, n_bins=n_bins, bins=bins)\n",
    "    eventcurve.do_math(df_sample, feature_col, target)\n",
    "    \n",
    "    specs = [\n",
    "        [{}, {}],\n",
    "        [{\"colspan\": 2, \"secondary_y\": True}, None]\n",
    "    ]\n",
    "\n",
    "    plot = OtaPlotter(feature_col, target, specs)\n",
    "    plot.build_subplot(roccurve, 1, 1)\n",
    "    plot.build_subplot(distcurve, 1, 2)\n",
    "    plot.build_subplot(eventcurve, 2, 1)\n",
    "    \n",
    "    if show_plot:\n",
    "        plot.show()\n",
    "        \n",
    "    return plot"
   ]
  },
  {
   "cell_type": "code",
   "execution_count": 22,
   "id": "dff5429b",
   "metadata": {},
   "outputs": [],
   "source": [
    "def build_univariate_plots(df, \n",
    "                       features: list, \n",
    "                       target: str, \n",
    "                       save_directory = pathlib.Path(),\n",
    "                       colors: PlotColors = PlotColors(), \n",
    "                       show_plot: bool = False,\n",
    "                       hoverinfo='all',\n",
    "                       n_bins: int = 10,\n",
    "                       bins: list = None):\n",
    "    \n",
    "    if isinstance(features, str):\n",
    "        features = [features]\n",
    "    \n",
    "    for feature in features:\n",
    "        print(feature)\n",
    "        if feature not in df.columns:\n",
    "            raise ValueError(f'{feature} not in columns of dataframe')\n",
    "\n",
    "        fig = build_univariate_plot(df, \n",
    "                          feature, \n",
    "                          target, \n",
    "                          colors = colors, \n",
    "                          show_plot = show_plot,\n",
    "                          hoverinfo= hoverinfo,\n",
    "                          n_bins = n_bins,\n",
    "                          bins = bins)\n",
    "        \n",
    "        fig.save_fig(save_directory)"
   ]
  },
  {
   "cell_type": "code",
   "execution_count": 10,
   "id": "10ca1450",
   "metadata": {},
   "outputs": [
    {
     "data": {
      "text/plain": [
       "Index(['CUSTOMER_ID', 'REF_DATE', 'DATE', 'PHYSICAL_STATE', 'PHYSICAL_CITY',\n",
       "       'PHYSICAL_POSTAL_CODE', 'A_TENURE_MONTHS_N', 'A_TENURE_GROUP_C',\n",
       "       'A_YEARS_IN_BUSINESS_N', 'A_NUMBER_OF_DRIVERS_N',\n",
       "       'A_NUMBER_OF_EMPLOYEES_N', 'A_NUMBER_OF_TRUCKS_N', 'FRAUD_FLAG_FP',\n",
       "       'FRAUD_FLAG_OPERATIONS', 'THIN_FILE_INDICATOR',\n",
       "       'SELF_REPORTED_INDICATOR', 'HAS_PARENT', 'PLATFORM',\n",
       "       'D_N_DELINQUENCIES_6M_N', 'D_N_DELINQUENCIES_1M_N',\n",
       "       'D_MAX_DAYS_PAST_DUE_6M_N', 'D_MAX_DAYS_PAST_DUE_1M_N',\n",
       "       'D_DAYS_PAST_DUE_CURRENT_N', 'D_DAYS_SINCE_LAST_30DPD_CURRENT_N',\n",
       "       'DNB_FAILURE_SCORE_N', 'DNB_DELINQUENCY_SCORE_N',\n",
       "       'LN_LEXISNEXIS_SCORE_CURRENT_N', 'LN_LEXISNEXIS_SBFE_SCORE_CURRENT_N',\n",
       "       'LN_LEXISNEXIS_THIN_FILE_FLAG_B', 'LN_LIMITED_CREDIT_HISTORY_FLAG_B',\n",
       "       'BUSINESS_DATE_NEXT_60_DPD', 'DAYS_UNTIL_NEXT_60_DPD',\n",
       "       'EXPOSURE_NEXT_60_DPD', 'FLAG_60_DPD_366_DAYS',\n",
       "       'MC_MON_AMT_USED_FLAG_6M_C', 'T_SUM_GALLONS_1M',\n",
       "       'T_TRX_AMT_TOTAL_TREND42_N', 'T_AVG_TRX_AMT_6M_N',\n",
       "       'T_SPREAD_SUM_GALLONS_6M_N', 'T_SPREAD_GROSS_SPEND_6M_N',\n",
       "       'T_TOTAL_TRX_NON_FUEL_PROPORTION_1M_N', 'T_PPG_AVG_1M_N',\n",
       "       'T_PPG_AVG_3M_N', 'T_PPG_AVG_6M_N', 'T_TREND_SUM_TRX_AMT_6M_N',\n",
       "       'T_TREND_SUM_GALLONS_6M_N', 'T_AVG_SPOT_RATE_1M_N',\n",
       "       'T_AVG_SPOT_RATE_3M_N', 'T_AVG_SPOT_RATE_6M_N', 'T_DXR_AVG_1M_N',\n",
       "       'T_DXR_AVG_3M_N', 'T_DXR_AVG_6M_N', 'FILTER_TRAIN', 'FILTER_PREDICT'],\n",
       "      dtype='object')"
      ]
     },
     "execution_count": 10,
     "metadata": {},
     "output_type": "execute_result"
    }
   ],
   "source": [
    "df_sample.columns"
   ]
  },
  {
   "cell_type": "code",
   "execution_count": 11,
   "id": "bafdfdba",
   "metadata": {},
   "outputs": [],
   "source": [
    "df_sample.columns\n",
    "FEATURE = \"D_MAX_DAYS_PAST_DUE_6M_N\"\n",
    "target = \"FLAG_60_DPD_366_DAYS\"\n",
    "\n",
    "SOMEBANK_COLORS = PlotColors(\n",
    "    primary_color = '231, 30, 87',\n",
    "    secondary_color = '153, 204, 235',\n",
    "    tertiary_color = '254, 189, 64',\n",
    "    grey_tint_color = '110, 111, 115'\n",
    ")\n",
    "\n",
    "BCG_COLORS = PlotColors(\n",
    "    primary_color = '40, 186, 116',\n",
    "    secondary_color = '41, 94, 126',\n",
    "    tertiary_color = '153, 204, 235',\n",
    "    grey_tint_color = '110, 111, 115'\n",
    ")"
   ]
  },
  {
   "cell_type": "code",
   "execution_count": 12,
   "id": "5d6cba8c",
   "metadata": {},
   "outputs": [],
   "source": [
    "roccurve = RocCurvePlot(hoverinfo='all')\n",
    "roccurve.do_math(df_sample, FEATURE, \"FLAG_60_DPD_366_DAYS\")"
   ]
  },
  {
   "cell_type": "code",
   "execution_count": 13,
   "id": "9fc9ec92",
   "metadata": {},
   "outputs": [],
   "source": [
    "distcurve = DistPlot(hoverinfo='all')\n",
    "distcurve.do_math(df_sample, FEATURE, \"FLAG_60_DPD_366_DAYS\")"
   ]
  },
  {
   "cell_type": "code",
   "execution_count": 14,
   "id": "d7f1316d",
   "metadata": {},
   "outputs": [],
   "source": [
    "eventcurve = BinEventRatePlot(hoverinfo='all', n_bins=5, bins=[0,1,10,20,100])\n",
    "eventcurve.do_math(df_sample, FEATURE, \"FLAG_60_DPD_366_DAYS\")"
   ]
  },
  {
   "cell_type": "code",
   "execution_count": 17,
   "id": "e2ad383e",
   "metadata": {},
   "outputs": [
    {
     "data": {
      "text/html": [
       "<iframe\n",
       "    scrolling=\"no\"\n",
       "    width=\"1020px\"\n",
       "    height=\"820\"\n",
       "    src=\"iframe_figures/figure_17.html\"\n",
       "    frameborder=\"0\"\n",
       "    allowfullscreen\n",
       "></iframe>\n"
      ]
     },
     "metadata": {},
     "output_type": "display_data"
    }
   ],
   "source": [
    "specs = [\n",
    "    [{}, {}],\n",
    "    [{\"colspan\": 2, \"secondary_y\": True}, None]\n",
    "]\n",
    "\n",
    "plot = OtaPlotter(FEATURE, \"FLAG_60_DPD_366_DAYS\", specs)\n",
    "plot.build_subplot(roccurve, 1, 1)\n",
    "plot.build_subplot(distcurve, 1, 2)\n",
    "plot.build_subplot(eventcurve, 2, 1)\n",
    "plot.show()"
   ]
  },
  {
   "cell_type": "code",
   "execution_count": 18,
   "id": "fa23e934",
   "metadata": {},
   "outputs": [
    {
     "data": {
      "text/html": [
       "<iframe\n",
       "    scrolling=\"no\"\n",
       "    width=\"1020px\"\n",
       "    height=\"820\"\n",
       "    src=\"iframe_figures/figure_18.html\"\n",
       "    frameborder=\"0\"\n",
       "    allowfullscreen\n",
       "></iframe>\n"
      ]
     },
     "metadata": {},
     "output_type": "display_data"
    }
   ],
   "source": [
    "specs = [\n",
    "    [{\"colspan\": 2, \"secondary_y\": True}, None],\n",
    "    [{}, {}]\n",
    "]\n",
    "\n",
    "plot = OtaPlotter(FEATURE, \"FLAG_60_DPD_366_DAYS\", specs)\n",
    "plot.build_subplot(roccurve, 2, 1)\n",
    "plot.build_subplot(distcurve, 2, 2)\n",
    "plot.build_subplot(eventcurve, 1, 1)\n",
    "plot.show()"
   ]
  },
  {
   "cell_type": "code",
   "execution_count": 19,
   "id": "9e6dcfd3",
   "metadata": {},
   "outputs": [
    {
     "data": {
      "text/html": [
       "<iframe\n",
       "    scrolling=\"no\"\n",
       "    width=\"1020px\"\n",
       "    height=\"820\"\n",
       "    src=\"iframe_figures/figure_19.html\"\n",
       "    frameborder=\"0\"\n",
       "    allowfullscreen\n",
       "></iframe>\n"
      ]
     },
     "metadata": {},
     "output_type": "display_data"
    }
   ],
   "source": [
    "specs = [\n",
    "    [{\"colspan\": 2, \"secondary_y\": True}, None],\n",
    "    [{}, {}]\n",
    "]\n",
    "\n",
    "plot = OtaPlotter(FEATURE, \"FLAG_60_DPD_366_DAYS\", specs)\n",
    "plot.build_subplot(roccurve, 2, 2)\n",
    "plot.build_subplot(distcurve, 2, 1)\n",
    "plot.build_subplot(eventcurve, 1, 1)\n",
    "plot.show()"
   ]
  },
  {
   "cell_type": "code",
   "execution_count": 26,
   "id": "1538ea33",
   "metadata": {},
   "outputs": [
    {
     "name": "stdout",
     "output_type": "stream",
     "text": [
      "A_TENURE_MONTHS_N\n",
      "saving univariate anaylsis for A_TENURE_MONTHS_N\n",
      "D_MAX_DAYS_PAST_DUE_6M_N\n",
      "saving univariate anaylsis for D_MAX_DAYS_PAST_DUE_6M_N\n",
      "LN_LEXISNEXIS_SBFE_SCORE_CURRENT_N\n",
      "saving univariate anaylsis for LN_LEXISNEXIS_SBFE_SCORE_CURRENT_N\n"
     ]
    }
   ],
   "source": [
    "build_univariate_plots(\n",
    "    df_sample,\n",
    "    settings.features,\n",
    "    settings.target,\n",
    "    settings.output_path\n",
    ")"
   ]
  },
  {
   "cell_type": "code",
   "execution_count": null,
   "id": "7897d85f",
   "metadata": {},
   "outputs": [],
   "source": [
    "build_univariate_plots(\n",
    "    df_sample,\n",
    "    [\"A_TENURE_MONTHS_N\", \"D_MAX_DAYS_PAST_DUE_6M_N\", \"LN_LEXISNEXIS_SBFE_SCORE_CURRENT_N\", \"poop\"],\n",
    "    \"FLAG_60_DPD_366_DAYS\",\n",
    "    IMAGE_DIR\n",
    ")"
   ]
  },
  {
   "cell_type": "code",
   "execution_count": null,
   "id": "0d4e3f48",
   "metadata": {},
   "outputs": [],
   "source": [
    "build_univariate_plots(\n",
    "    df_sample,\n",
    "    [\"A_TENURE_MONTHS_N\", \"D_MAX_DAYS_PAST_DUE_6M_N\", \"LN_LEXISNEXIS_SBFE_SCORE_CURRENT_N\", \"poop\"],\n",
    "    \"FLAG_60_DPD_366_DAYS\",\n",
    "    IMAGE_DIR / \"bla\"\n",
    ")"
   ]
  },
  {
   "cell_type": "code",
   "execution_count": null,
   "id": "f9da5fc2",
   "metadata": {},
   "outputs": [],
   "source": []
  }
 ],
 "metadata": {
  "kernelspec": {
   "display_name": "Python 3 (ipykernel)",
   "language": "python",
   "name": "python3"
  },
  "language_info": {
   "codemirror_mode": {
    "name": "ipython",
    "version": 3
   },
   "file_extension": ".py",
   "mimetype": "text/x-python",
   "name": "python",
   "nbconvert_exporter": "python",
   "pygments_lexer": "ipython3",
   "version": "3.10.1"
  }
 },
 "nbformat": 4,
 "nbformat_minor": 5
}
