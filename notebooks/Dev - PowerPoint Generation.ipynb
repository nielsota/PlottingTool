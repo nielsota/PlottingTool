{
 "cells": [
  {
   "cell_type": "code",
   "execution_count": 34,
   "id": "2769b8e4",
   "metadata": {},
   "outputs": [],
   "source": [
    "from pptx import Presentation\n",
    "from pptx.util import Inches"
   ]
  },
  {
   "cell_type": "code",
   "execution_count": 35,
   "id": "704a73e6",
   "metadata": {},
   "outputs": [],
   "source": [
    "pres = Presentation()"
   ]
  },
  {
   "cell_type": "code",
   "execution_count": 36,
   "id": "c53cd4e7",
   "metadata": {},
   "outputs": [],
   "source": [
    "s1_register = pres.slide_layouts[0]"
   ]
  },
  {
   "cell_type": "code",
   "execution_count": 37,
   "id": "bb50b445",
   "metadata": {},
   "outputs": [
    {
     "data": {
      "text/plain": [
       "<pptx.slide.SlideLayout at 0x122c10b80>"
      ]
     },
     "execution_count": 37,
     "metadata": {},
     "output_type": "execute_result"
    }
   ],
   "source": [
    "s1_register"
   ]
  },
  {
   "cell_type": "code",
   "execution_count": 38,
   "id": "74af98df",
   "metadata": {},
   "outputs": [],
   "source": [
    "s1 = pres.slides.add_slide(s1_register)"
   ]
  },
  {
   "cell_type": "code",
   "execution_count": 39,
   "id": "f937c8b9",
   "metadata": {},
   "outputs": [],
   "source": [
    "img_path = \"/Users/otaniels/Library/CloudStorage/OneDrive-TheBostonConsultingGroup,Inc/Documents/NielsOta/Code/univariate_plotter/data/images/univariate_plot_A_TENURE_MONTHS_N.jpeg\"\n",
    "pic = s1.shapes.add_picture(\n",
    "    img_path,\n",
    "    Inches(0.5),\n",
    "    Inches(1.75),\n",
    "    width=Inches(7),\n",
    "    height=Inches(5),\n",
    ")"
   ]
  },
  {
   "cell_type": "code",
   "execution_count": null,
   "id": "5f4de36e",
   "metadata": {},
   "outputs": [],
   "source": []
  },
  {
   "cell_type": "code",
   "execution_count": null,
   "id": "7f40c019",
   "metadata": {},
   "outputs": [],
   "source": []
  },
  {
   "cell_type": "code",
   "execution_count": null,
   "id": "9d1bd039",
   "metadata": {},
   "outputs": [],
   "source": []
  },
  {
   "cell_type": "code",
   "execution_count": null,
   "id": "1728caf6",
   "metadata": {},
   "outputs": [],
   "source": []
  },
  {
   "cell_type": "code",
   "execution_count": 40,
   "id": "228678f0",
   "metadata": {},
   "outputs": [],
   "source": [
    "pres.save(\"/Users/otaniels/Library/CloudStorage/OneDrive-TheBostonConsultingGroup,Inc/Documents/NielsOta/Code/univariate_plotter/data/powerpoints/test.pptx\")"
   ]
  },
  {
   "cell_type": "code",
   "execution_count": null,
   "id": "156a1ff9",
   "metadata": {},
   "outputs": [],
   "source": []
  }
 ],
 "metadata": {
  "kernelspec": {
   "display_name": "Python 3 (ipykernel)",
   "language": "python",
   "name": "python3"
  },
  "language_info": {
   "codemirror_mode": {
    "name": "ipython",
    "version": 3
   },
   "file_extension": ".py",
   "mimetype": "text/x-python",
   "name": "python",
   "nbconvert_exporter": "python",
   "pygments_lexer": "ipython3",
   "version": "3.10.1"
  }
 },
 "nbformat": 4,
 "nbformat_minor": 5
}
