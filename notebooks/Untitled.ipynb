{
 "cells": [
  {
   "cell_type": "code",
   "execution_count": 1,
   "id": "a4cd0125",
   "metadata": {},
   "outputs": [],
   "source": [
    "import re"
   ]
  },
  {
   "cell_type": "code",
   "execution_count": 14,
   "id": "5499b747",
   "metadata": {},
   "outputs": [
    {
     "name": "stdout",
     "output_type": "stream",
     "text": [
      "False\n"
     ]
    }
   ],
   "source": [
    "pattern = re.compile(r\"\\d{0,3}, \\d{0,3}, \\d{0,3}\")\n",
    "print(pattern.match(\"231, 123, CB\") == \"231, 123, CB\")"
   ]
  },
  {
   "cell_type": "code",
   "execution_count": 16,
   "id": "5b829020",
   "metadata": {},
   "outputs": [
    {
     "data": {
      "text/plain": [
       "<re.Match object; span=(0, 13), match='231, 123, 123'>"
      ]
     },
     "execution_count": 16,
     "metadata": {},
     "output_type": "execute_result"
    }
   ],
   "source": [
    "pattern.match(\"231, 123, 123\")"
   ]
  },
  {
   "cell_type": "code",
   "execution_count": 17,
   "id": "39bc2ce3",
   "metadata": {},
   "outputs": [
    {
     "ename": "AttributeError",
     "evalue": "'re.Match' object has no attribute 'equals'",
     "output_type": "error",
     "traceback": [
      "\u001b[0;31m---------------------------------------------------------------------------\u001b[0m",
      "\u001b[0;31mAttributeError\u001b[0m                            Traceback (most recent call last)",
      "Cell \u001b[0;32mIn[17], line 1\u001b[0m\n\u001b[0;32m----> 1\u001b[0m \u001b[38;5;28mprint\u001b[39m(\u001b[43mpattern\u001b[49m\u001b[38;5;241;43m.\u001b[39;49m\u001b[43mmatch\u001b[49m\u001b[43m(\u001b[49m\u001b[38;5;124;43m\"\u001b[39;49m\u001b[38;5;124;43m231, 123, 123\u001b[39;49m\u001b[38;5;124;43m\"\u001b[39;49m\u001b[43m)\u001b[49m\u001b[38;5;241;43m.\u001b[39;49m\u001b[43mequals\u001b[49m(\u001b[38;5;124m\"\u001b[39m\u001b[38;5;124m231, 123, 123\u001b[39m\u001b[38;5;124m\"\u001b[39m) )\n",
      "\u001b[0;31mAttributeError\u001b[0m: 're.Match' object has no attribute 'equals'"
     ]
    }
   ],
   "source": [
    "print(pattern.match(\"231, 123, 123\").equals(\"231, 123, 123\"))"
   ]
  },
  {
   "cell_type": "code",
   "execution_count": null,
   "id": "4a22e290",
   "metadata": {},
   "outputs": [],
   "source": [
    "print(pattern.match(\"231, 123, CB\") == \"231, 123, CB\")"
   ]
  },
  {
   "cell_type": "code",
   "execution_count": 19,
   "id": "e6468755",
   "metadata": {},
   "outputs": [
    {
     "name": "stdout",
     "output_type": "stream",
     "text": [
      "True\n",
      "True\n",
      "False\n",
      "False\n",
      "False\n"
     ]
    }
   ],
   "source": [
    "import re\n",
    "\n",
    "def validate_color_string(color_string):\n",
    "    pattern = r'^\\d{1,3}, \\d{1,3}, \\d{1,3}$'\n",
    "    return re.match(pattern, color_string) is not None\n",
    "\n",
    "# Example usage\n",
    "color1 = \"123, 123, 123\"\n",
    "color2 = \"1, 3, 123\"\n",
    "color3 = \"1000, 2000, 3000\"\n",
    "color4 = \"12, 34\"\n",
    "color5 = \"110, 111, abc\"\n",
    "\n",
    "print(validate_color_string(color1))  # True\n",
    "print(validate_color_string(color2))  # True\n",
    "print(validate_color_string(color3))  # False\n",
    "print(validate_color_string(color4))  # False\n",
    "print(validate_color_string(color5))  # False"
   ]
  },
  {
   "cell_type": "code",
   "execution_count": 20,
   "id": "47664894",
   "metadata": {},
   "outputs": [
    {
     "name": "stdout",
     "output_type": "stream",
     "text": [
      "Color string is valid\n",
      "Color string is valid\n",
      "Color string is invalid: 1000, 2000, 3000\n",
      "Color string is invalid: 12, 34\n"
     ]
    }
   ],
   "source": [
    "import re\n",
    "\n",
    "def validate_color_string(color_string):\n",
    "    pattern = r'^(\\d{1,3}), (\\d{1,3}), (\\d{1,3})$'\n",
    "    match = re.match(pattern, color_string)\n",
    "    if match is None:\n",
    "        return False, color_string\n",
    "    else:\n",
    "        return True, None\n",
    "\n",
    "# Example usage\n",
    "color1 = \"123, 123, 123\"\n",
    "color2 = \"1, 3, 123\"\n",
    "color3 = \"1000, 2000, 3000\"\n",
    "color4 = \"12, 34\"\n",
    "\n",
    "valid, error = validate_color_string(color1)\n",
    "if valid:\n",
    "    print(\"Color string is valid\")\n",
    "else:\n",
    "    print(\"Color string is invalid: {}\".format(error))\n",
    "\n",
    "valid, error = validate_color_string(color2)\n",
    "if valid:\n",
    "    print(\"Color string is valid\")\n",
    "else:\n",
    "    print(\"Color string is invalid: {}\".format(error))\n",
    "\n",
    "valid, error = validate_color_string(color3)\n",
    "if valid:\n",
    "    print(\"Color string is valid\")\n",
    "else:\n",
    "    print(\"Color string is invalid: {}\".format(error))\n",
    "\n",
    "valid, error = validate_color_string(color4)\n",
    "if valid:\n",
    "    print(\"Color string is valid\")\n",
    "else:\n",
    "    print(\"Color string is invalid: {}\".format(error))\n"
   ]
  },
  {
   "cell_type": "code",
   "execution_count": 9,
   "id": "7c7995a2",
   "metadata": {},
   "outputs": [
    {
     "data": {
      "text/plain": [
       "<re.Match object; span=(0, 10), match='231, 123, '>"
      ]
     },
     "execution_count": 9,
     "metadata": {},
     "output_type": "execute_result"
    }
   ],
   "source": [
    "pattern.match(\"231, 123, CB\")"
   ]
  },
  {
   "cell_type": "code",
   "execution_count": null,
   "id": "64f2f9a0",
   "metadata": {},
   "outputs": [],
   "source": []
  }
 ],
 "metadata": {
  "kernelspec": {
   "display_name": "Python 3 (ipykernel)",
   "language": "python",
   "name": "python3"
  },
  "language_info": {
   "codemirror_mode": {
    "name": "ipython",
    "version": 3
   },
   "file_extension": ".py",
   "mimetype": "text/x-python",
   "name": "python",
   "nbconvert_exporter": "python",
   "pygments_lexer": "ipython3",
   "version": "3.10.1"
  }
 },
 "nbformat": 4,
 "nbformat_minor": 5
}
